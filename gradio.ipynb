import gradio as gr
with gr.Blocks() as demo:
    image_input = gr.Image(source="upload",
                           type="filepath",
                           label="Insert an image")

    human = gr.Number(label="Human Probability")
    ai = gr.Number(label="AI Probability")

    greet_btn = gr.Button("Submit Image")
    greet_btn.click(fn=<our_function>,
                    inputs=image_input,
                    outputs=[human, ai])

demo.launch()
