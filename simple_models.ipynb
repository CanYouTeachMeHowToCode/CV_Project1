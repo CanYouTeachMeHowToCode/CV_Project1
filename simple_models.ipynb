{
 "cells": [
  {
   "cell_type": "code",
   "execution_count": 62,
   "id": "4ee14d65",
   "metadata": {},
   "outputs": [
    {
     "name": "stdout",
     "output_type": "stream",
     "text": [
      "[[16 27 57 ... 3 40 48]\n",
      " [31 67 46 ... 175 165 157]\n",
      " [178 154 124 ... 15 29 9]\n",
      " ...\n",
      " [95 161 186 ... 77 105 116]\n",
      " [124 157 130 ... 100 128 85]\n",
      " [147 159 155 ... 138 159 173]]\n",
      "['artificial' 'artificial' 'artificial' 'artificial' 'artificial'\n",
      " 'artificial' 'artificial' 'artificial' 'artificial' 'artificial'\n",
      " 'artificial' 'artificial' 'artificial' 'artificial' 'artificial'\n",
      " 'artificial' 'artificial' 'artificial' 'artificial' 'artificial'\n",
      " 'artificial' 'artificial' 'artificial' 'artificial' 'artificial'\n",
      " 'artificial' 'artificial' 'artificial' 'artificial' 'artificial'\n",
      " 'artificial' 'artificial' 'artificial' 'artificial' 'artificial'\n",
      " 'artificial' 'artificial' 'artificial' 'artificial' 'artificial'\n",
      " 'artificial' 'artificial' 'artificial' 'artificial' 'artificial'\n",
      " 'artificial' 'artificial' 'artificial' 'artificial' 'artificial'\n",
      " 'artificial' 'artificial' 'artificial' 'artificial' 'artificial'\n",
      " 'artificial' 'artificial' 'artificial' 'artificial' 'artificial'\n",
      " 'artificial' 'artificial' 'artificial' 'artificial' 'artificial'\n",
      " 'artificial' 'artificial' 'artificial' 'artificial' 'artificial'\n",
      " 'artificial' 'artificial' 'artificial' 'artificial' 'artificial'\n",
      " 'artificial' 'artificial' 'artificial' 'artificial' 'artificial'\n",
      " 'artificial' 'artificial' 'artificial' 'artificial' 'artificial'\n",
      " 'artificial' 'artificial' 'artificial' 'artificial' 'artificial'\n",
      " 'artificial' 'artificial' 'artificial' 'artificial' 'artificial'\n",
      " 'artificial' 'artificial' 'artificial' 'artificial' 'artificial'\n",
      " 'artificial' 'artificial' 'artificial' 'artificial' 'artificial'\n",
      " 'artificial' 'artificial' 'artificial' 'artificial' 'artificial'\n",
      " 'artificial' 'artificial' 'artificial' 'artificial' 'artificial'\n",
      " 'artificial' 'artificial' 'artificial' 'artificial' 'artificial'\n",
      " 'artificial' 'artificial' 'artificial' 'artificial' 'artificial'\n",
      " 'artificial' 'artificial' 'artificial' 'artificial' 'artificial'\n",
      " 'artificial' 'artificial' 'artificial' 'artificial' 'artificial'\n",
      " 'artificial' 'artificial' 'artificial' 'artificial' 'artificial'\n",
      " 'artificial' 'artificial' 'artificial' 'artificial' 'artificial'\n",
      " 'artificial' 'artificial' 'artificial' 'artificial' 'artificial'\n",
      " 'artificial' 'artificial' 'artificial' 'artificial' 'artificial'\n",
      " 'artificial' 'artificial' 'artificial' 'human' 'human' 'human' 'human'\n",
      " 'human' 'human' 'human' 'human' 'human' 'human' 'human' 'human' 'human'\n",
      " 'human' 'human' 'human' 'human' 'human' 'human' 'human' 'human' 'human'\n",
      " 'human' 'human' 'human' 'human' 'human' 'human' 'human' 'human' 'human'\n",
      " 'human' 'human' 'human' 'human' 'human' 'human' 'human' 'human' 'human'\n",
      " 'human' 'human' 'human' 'human' 'human' 'human' 'human' 'human' 'human'\n",
      " 'human' 'human' 'human' 'human' 'human' 'human' 'human' 'human' 'human'\n",
      " 'human' 'human' 'human' 'human' 'human' 'human' 'human' 'human' 'human'\n",
      " 'human' 'human' 'human' 'human' 'human' 'human' 'human' 'human' 'human'\n",
      " 'human' 'human' 'human' 'human' 'human' 'human' 'human' 'human' 'human'\n",
      " 'human' 'human' 'human' 'human' 'human' 'human' 'human' 'human' 'human'\n",
      " 'human' 'human' 'human' 'human' 'human' 'human' 'human' 'human' 'human'\n",
      " 'human' 'human' 'human' 'human' 'human' 'human' 'human' 'human' 'human'\n",
      " 'human' 'human' 'human' 'human' 'human' 'human' 'human' 'human' 'human'\n",
      " 'human' 'human' 'human' 'human' 'human' 'human' 'human' 'human' 'human'\n",
      " 'human' 'human']\n"
     ]
    }
   ],
   "source": [
    "import os\n",
    "import numpy as np\n",
    "import cv2\n",
    "\n",
    "folder_path = \"C:\\\\Users\\\\nehab\\\\OneDrive\\\\Desktop\\\\test\"\n",
    "\n",
    "data = []\n",
    "labels = []\n",
    "#print (os.listdir(folder_path))\n",
    "for folder_name in os.listdir(folder_path):\n",
    "    #print (folder_name)\n",
    "    folder_path_class = os.path.join(folder_path, folder_name)\n",
    "    #print (folder_path_class)\n",
    "    label = folder_name\n",
    "\n",
    "    for image_path in os.listdir(folder_path_class):\n",
    "        image_path_full = os.path.join(folder_path_class, image_path)\n",
    "        image = cv2.imread(image_path_full)\n",
    "        img=cv2.resize(image,(240,240))\n",
    "        \n",
    "        #gray_image = cv2.cvtColor(image, cv2.COLOR_BGR2GRAY)\n",
    "\n",
    "        \n",
    "        flat_image = img.flatten()\n",
    "\n",
    "        data.append(flat_image)\n",
    "        labels.append(label)\n",
    "\n",
    "\n",
    "\n",
    "data1 = np.array(data,dtype=object)\n",
    "labels1 = np.array(labels,dtype=object)\n",
    "print (data1)\n",
    "print (labels1)"
   ]
  },
  {
   "cell_type": "code",
   "execution_count": 63,
   "id": "d73402f4",
   "metadata": {},
   "outputs": [
    {
     "name": "stdout",
     "output_type": "stream",
     "text": [
      "[[252 253 253 ... 253 254 253]\n",
      " [253 252 252 ... 252 252 252]\n",
      " [224 235 239 ... 94 97 75]\n",
      " ...\n",
      " [180 154 103 ... 142 107 33]\n",
      " [252 253 252 ... 252 252 252]\n",
      " [16 10 14 ... 37 43 62]]\n",
      "['artificial' 'artificial' 'human' 'human' 'human' 'artificial' 'human'\n",
      " 'human' 'artificial' 'artificial' 'artificial' 'artificial' 'artificial'\n",
      " 'human' 'artificial' 'human' 'human' 'artificial' 'human' 'artificial'\n",
      " 'human' 'human' 'artificial' 'human' 'human' 'human' 'artificial' 'human'\n",
      " 'human' 'human' 'artificial' 'artificial' 'artificial' 'human' 'human'\n",
      " 'human' 'human' 'human' 'artificial' 'artificial' 'artificial' 'human'\n",
      " 'artificial' 'human' 'human' 'artificial' 'artificial' 'human'\n",
      " 'artificial' 'human' 'artificial' 'human' 'human' 'artificial'\n",
      " 'artificial' 'human' 'artificial' 'artificial']\n"
     ]
    }
   ],
   "source": [
    "from sklearn.model_selection import train_test_split\n",
    "X_train, X_test, y_train, y_test = train_test_split(data1, \n",
    "                                                labels1,random_state=0, \n",
    "                                                test_size=0.2)\n",
    "\n",
    "\n",
    "print (X_test)\n",
    "print (y_test)"
   ]
  },
  {
   "cell_type": "code",
   "execution_count": 64,
   "id": "38747af1",
   "metadata": {},
   "outputs": [],
   "source": [
    "from sklearn.svm import SVC\n",
    "import numpy as np\n",
    "import pandas as pd\n",
    "import matplotlib.pyplot as plt\n",
    "from sklearn.model_selection import train_test_split\n",
    "from sklearn.metrics import accuracy_score, confusion_matrix, plot_confusion_matrix\n",
    "from sklearn.model_selection import KFold, cross_val_score\n",
    "from matplotlib.colors import ListedColormap\n",
    "from sklearn.svm import SVC\n",
    "import seaborn as sns\n",
    "from sklearn.neighbors import KNeighborsClassifier\n",
    "from sklearn.tree import DecisionTreeClassifier\n",
    "from sklearn.ensemble import RandomForestClassifier"
   ]
  },
  {
   "cell_type": "code",
   "execution_count": 30,
   "id": "37a0724a",
   "metadata": {},
   "outputs": [],
   "source": [
    "def SVC_crossval(X_train,y_train,kernels,C_vals):\n",
    "    kf = KFold(n_splits=3)\n",
    "    best_acc=0\n",
    "    for i in kernels:\n",
    "        for j in C_vals:\n",
    "            model=SVC(kernel=i,C=j)\n",
    "            acc_folds=[]\n",
    "            for (train_idx,val_idx) in kf.split(X=X_train,y=y_train):\n",
    "                X_fold_train, X_fold_val = X_train[train_idx], X_train[val_idx]\n",
    "                y_fold_train, y_fold_val = y_train[train_idx], y_train[val_idx]\n",
    "                model.fit(X_fold_train,y_fold_train)\n",
    "                preds=model.predict(X_fold_val)\n",
    "                acc= sum([preds == y_fold_val])/len(y_fold_val)\n",
    "                acc_folds.append(acc)\n",
    "            mean_acc = np.mean(acc_folds)\n",
    "            #print (mean_acc)\n",
    "            if mean_acc > best_acc:\n",
    "                best_acc = mean_acc\n",
    "                best_c_val = j\n",
    "                best_kernel =i\n",
    "                #print (best_c_val,best_kernel)\n",
    "    return(best_kernel,best_c_val,mean_acc)"
   ]
  },
  {
   "cell_type": "code",
   "execution_count": null,
   "id": "e6d8b810",
   "metadata": {},
   "outputs": [],
   "source": []
  },
  {
   "cell_type": "code",
   "execution_count": 65,
   "id": "14aa3250",
   "metadata": {},
   "outputs": [],
   "source": [
    "def test_SVC_model(kernel,C_val,X_train,y_train,X_test):\n",
    "    model=SVC(kernel=kernel,C=C_val)\n",
    "    model.fit(X_train,y_train)\n",
    "    preds=model.predict(X_test)\n",
    "    return (preds)"
   ]
  },
  {
   "cell_type": "code",
   "execution_count": 66,
   "id": "0ddfe9a3",
   "metadata": {},
   "outputs": [
    {
     "name": "stdout",
     "output_type": "stream",
     "text": [
      "Your model's accuracy on the test set is 0.897\n"
     ]
    }
   ],
   "source": [
    "y_preds = test_SVC_model('rbf',10,X_train,y_train,X_test)\n",
    "acc = accuracy_score(y_test,y_preds)\n",
    "print(\"Your model's accuracy on the test set is {:.3f}\".format(acc))"
   ]
  },
  {
   "cell_type": "code",
   "execution_count": 67,
   "id": "38721693",
   "metadata": {},
   "outputs": [],
   "source": [
    "def KNN (X_train,y_train,X_test) :\n",
    "    knn_model = KNeighborsClassifier(n_neighbors=1)\n",
    "    knn_model.fit(X_train,y_train)\n",
    "    preds=knn_model.predict(X_test)\n",
    "    return (preds)"
   ]
  },
  {
   "cell_type": "code",
   "execution_count": 68,
   "id": "76efbd5e",
   "metadata": {},
   "outputs": [
    {
     "name": "stdout",
     "output_type": "stream",
     "text": [
      "Your model's accuracy on the test set is 0.741\n"
     ]
    }
   ],
   "source": [
    "y_preds_1=KNN(X_train,y_train,X_test)\n",
    "acc=accuracy_score(y_test,y_preds_1)\n",
    "print (\"Your model's accuracy on the test set is {:.3f}\".format(acc))"
   ]
  },
  {
   "cell_type": "code",
   "execution_count": 69,
   "id": "407d7cfc",
   "metadata": {},
   "outputs": [],
   "source": [
    "def tree_model(X_train,X_test,y_train,y_test):\n",
    "    print (X_train)\n",
    "    dtree_model = DecisionTreeClassifier(random_state=0)\n",
    "    dtree_model.fit(X_train,y_train)\n",
    "    pred=dtree_model.predict(X_test)\n",
    "    test_acc=sum(pred == y_test)/len(y_test)\n",
    "    return(test_acc)"
   ]
  },
  {
   "cell_type": "code",
   "execution_count": 70,
   "id": "08a2f6dc",
   "metadata": {},
   "outputs": [
    {
     "name": "stdout",
     "output_type": "stream",
     "text": [
      "[[88 107 85 ... 164 164 163]\n",
      " [255 255 255 ... 255 255 255]\n",
      " [136 166 166 ... 197 202 203]\n",
      " ...\n",
      " [35 45 59 ... 68 76 97]\n",
      " [203 243 248 ... 230 251 249]\n",
      " [164 185 187 ... 25 33 23]]\n",
      "Your tree's test set accuracy is 0.810\n"
     ]
    }
   ],
   "source": [
    "tree_acc = tree_model(X_train,X_test,y_train,y_test)\n",
    "print(\"Your tree's test set accuracy is {:.3f}\".format(tree_acc))"
   ]
  },
  {
   "cell_type": "code",
   "execution_count": 71,
   "id": "b5acc3b2",
   "metadata": {},
   "outputs": [],
   "source": [
    "def rf(X_train,X_test,y_train,y_test):    \n",
    "    rf = RandomForestClassifier(min_samples_leaf=10,max_features=1,random_state=0)\n",
    "    rf.fit(X_train,y_train)\n",
    "    pred_rf=rf.predict(X_test)\n",
    "    test_acc=sum(pred_rf == y_test)/len(y_test)\n",
    "    return(test_acc)"
   ]
  },
  {
   "cell_type": "code",
   "execution_count": 72,
   "id": "b536c4ff",
   "metadata": {},
   "outputs": [
    {
     "name": "stdout",
     "output_type": "stream",
     "text": [
      "Your tree's test set accuracy is 0.897\n"
     ]
    }
   ],
   "source": [
    "rf_acc = rf(X_train,X_test,y_train,y_test)\n",
    "print(\"Your tree's test set accuracy is {:.3f}\".format(rf_acc))"
   ]
  },
  {
   "cell_type": "code",
   "execution_count": null,
   "id": "43edecbd",
   "metadata": {},
   "outputs": [],
   "source": []
  }
 ],
 "metadata": {
  "kernelspec": {
   "display_name": "Python 3 (ipykernel)",
   "language": "python",
   "name": "python3"
  },
  "language_info": {
   "codemirror_mode": {
    "name": "ipython",
    "version": 3
   },
   "file_extension": ".py",
   "mimetype": "text/x-python",
   "name": "python",
   "nbconvert_exporter": "python",
   "pygments_lexer": "ipython3",
   "version": "3.7.13"
  }
 },
 "nbformat": 4,
 "nbformat_minor": 5
}
