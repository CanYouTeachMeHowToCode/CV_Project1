{
 "cells": [
  {
   "cell_type": "code",
   "execution_count": 1,
   "id": "4ee14d65",
   "metadata": {},
   "outputs": [],
   "source": [
    "import os\n",
    "import numpy as np\n",
    "import cv2\n",
    "from sklearn.model_selection import train_test_split\n",
    "from sklearn.svm import SVC\n",
    "import numpy as np\n",
    "import pandas as pd\n",
    "import matplotlib.pyplot as plt\n",
    "from sklearn.model_selection import train_test_split\n",
    "from sklearn.metrics import classification_report, confusion_matrix, ConfusionMatrixDisplay\n",
    "from sklearn.model_selection import KFold, cross_val_score\n",
    "from matplotlib.colors import ListedColormap\n",
    "from sklearn.svm import SVC\n",
    "import seaborn as sns\n",
    "from sklearn.neighbors import KNeighborsClassifier\n",
    "from sklearn.tree import DecisionTreeClassifier\n",
    "from sklearn.ensemble import RandomForestClassifier"
   ]
  },
  {
   "cell_type": "code",
   "execution_count": 2,
   "id": "33ccc459",
   "metadata": {},
   "outputs": [],
   "source": [
    "# Load all datasets in numpy array format \n",
    "def removeTmpFiles(path):\n",
    "    # automatically remove all .DS_Store files\n",
    "    if path.split(\"/\")[-1] == '.DS_Store': os.remove(path)\n",
    "    elif os.path.isdir(path):\n",
    "        for filename in os.listdir(path): removeTmpFiles(path + \"/\" + filename)\n",
    "\n",
    "data_dir = \"data/final_output_data/\"\n",
    "data_train, data_val, data_test = [], [], []\n",
    "labels_train, labels_val, labels_test = [], [], []\n",
    "\n",
    "data = {'train': data_train,\n",
    "        'val': data_val,\n",
    "        'test': data_test}\n",
    "labels = {'train': labels_train,\n",
    "          'val': labels_val,\n",
    "          'test': labels_test}\n",
    "\n",
    "dataset_types = ['train', 'val', 'test']\n",
    "for t in dataset_types: removeTmpFiles(data_dir+t) # for macOS\n",
    "for t in dataset_types:\n",
    "    curr_data_dir = data_dir+t\n",
    "    for folder_name in os.listdir(curr_data_dir):\n",
    "        folder_path_class = os.path.join(curr_data_dir, folder_name)\n",
    "        label = folder_name\n",
    "        for image_path in os.listdir(folder_path_class):\n",
    "            image_path_full = os.path.join(folder_path_class, image_path)\n",
    "            image = cv2.imread(image_path_full)\n",
    "            image = cv2.resize(image, (240, 240))\n",
    "            image = image.flatten()\n",
    "            data[t].append(image)\n",
    "            labels[t].append(label)\n",
    "    data[t] = np.array(data[t], dtype=object)\n",
    "    labels[t] = np.array(labels[t], dtype=object)\n",
    "\n",
    "for t in dataset_types: \n",
    "    print(\"dataset type: \", t)\n",
    "    print(data[t])\n",
    "    print(data[t].shape)\n",
    "    print(labels[t])\n",
    "    print(labels[t].shape)"
   ]
  },
  {
   "cell_type": "code",
   "execution_count": null,
   "id": "37a0724a",
   "metadata": {},
   "outputs": [],
   "source": [
    "# SVM with cross-validation\n",
    "def SVC_crossval(X_train, y_train, kernels, C_vals):\n",
    "    kf = KFold(n_splits=3)\n",
    "    best_acc, best_kernel, best_c_val, mean_acc = -1, -1, -1, -1\n",
    "    for i in kernels:\n",
    "        for j in C_vals:\n",
    "            model = SVC(kernel=i, C=j)\n",
    "            acc_folds = []\n",
    "            for (train_idx, val_idx) in kf.split(X=X_train, y=y_train):\n",
    "                X_fold_train, X_fold_val = X_train[train_idx], X_train[val_idx]\n",
    "                y_fold_train, y_fold_val = y_train[train_idx], y_train[val_idx]\n",
    "                model.fit(X_fold_train, y_fold_train)\n",
    "                preds = model.predict(X_fold_val)\n",
    "                acc = sum([preds == y_fold_val])/len(y_fold_val)\n",
    "                acc_folds.append(acc)\n",
    "            mean_acc = np.mean(acc_folds)\n",
    "            if mean_acc > best_acc:\n",
    "                best_acc = mean_acc\n",
    "                best_c_val = j\n",
    "                best_kernel = i\n",
    "    return best_kernel, best_c_val, mean_acc"
   ]
  },
  {
   "cell_type": "code",
   "execution_count": null,
   "id": "14aa3250",
   "metadata": {},
   "outputs": [],
   "source": [
    "def test_SVC_model(kernel, C_val, X_train, y_train, X_test):\n",
    "    model = SVC(kernel=kernel,C=C_val)\n",
    "    model.fit(X_train,y_train)\n",
    "    y_pred = model.predict(X_test)\n",
    "    return y_pred"
   ]
  },
  {
   "cell_type": "code",
   "execution_count": null,
   "id": "0ddfe9a3",
   "metadata": {},
   "outputs": [],
   "source": [
    "y_pred_SVM = test_SVC_model('rbf',10,X_train,y_train,X_test)\n",
    "print(\"Classfication report for SVM:\")\n",
    "print(classification_report(y_test, y_pred_SVM, target_names=['']]))"
   ]
  },
  {
   "cell_type": "code",
   "execution_count": null,
   "id": "38721693",
   "metadata": {},
   "outputs": [],
   "source": [
    "def KNN(X_train,y_train,X_test):\n",
    "    knn_model = KNeighborsClassifier(n_neighbors=1)\n",
    "    knn_model.fit(X_train,y_train)\n",
    "    y_pred = knn_model.predict(X_test)\n",
    "    return y_pred"
   ]
  },
  {
   "cell_type": "code",
   "execution_count": null,
   "id": "76efbd5e",
   "metadata": {},
   "outputs": [],
   "source": [
    "y_preds_KNN = KNN(X_train,y_train,X_test)\n",
    "acc = accuracy_score(y_test, y_preds_KNN)\n",
    "print (\"Your model's accuracy on the test set is {:.3f}\".format(acc))"
   ]
  },
  {
   "cell_type": "code",
   "execution_count": null,
   "id": "407d7cfc",
   "metadata": {},
   "outputs": [],
   "source": [
    "def tree_model(X_train,X_test,y_train,y_test):\n",
    "    print (X_train)\n",
    "    dtree_model = DecisionTreeClassifier(random_state=0)\n",
    "    dtree_model.fit(X_train,y_train)\n",
    "    pred=dtree_model.predict(X_test)\n",
    "    test_acc=sum(pred == y_test)/len(y_test)\n",
    "    return(test_acc)"
   ]
  },
  {
   "cell_type": "code",
   "execution_count": null,
   "id": "08a2f6dc",
   "metadata": {},
   "outputs": [],
   "source": [
    "tree_acc = tree_model(X_train,X_test,y_train,y_test)\n",
    "print(\"Your tree's test set accuracy is {:.3f}\".format(tree_acc))"
   ]
  },
  {
   "cell_type": "code",
   "execution_count": null,
   "id": "b5acc3b2",
   "metadata": {},
   "outputs": [],
   "source": [
    "def rf(X_train,X_test,y_train,y_test):    \n",
    "    rf = RandomForestClassifier(min_samples_leaf=10,max_features=1,random_state=0)\n",
    "    rf.fit(X_train,y_train)\n",
    "    pred_rf=rf.predict(X_test)\n",
    "    test_acc=sum(pred_rf == y_test)/len(y_test)\n",
    "    return(test_acc)"
   ]
  },
  {
   "cell_type": "code",
   "execution_count": null,
   "id": "b536c4ff",
   "metadata": {},
   "outputs": [],
   "source": [
    "rf_acc = rf(X_train,X_test,y_train,y_test)\n",
    "print(\"Your tree's test set accuracy is {:.3f}\".format(rf_acc))"
   ]
  },
  {
   "cell_type": "code",
   "execution_count": null,
   "id": "43edecbd",
   "metadata": {},
   "outputs": [],
   "source": []
  }
 ],
 "metadata": {
  "kernelspec": {
   "display_name": "aipi540",
   "language": "python",
   "name": "python3"
  },
  "language_info": {
   "codemirror_mode": {
    "name": "ipython",
    "version": 3
   },
   "file_extension": ".py",
   "mimetype": "text/x-python",
   "name": "python",
   "nbconvert_exporter": "python",
   "pygments_lexer": "ipython3",
   "version": "3.9.7"
  },
  "vscode": {
   "interpreter": {
    "hash": "13e5aac5b3506d24594796cfc9c50352fb99dc22ed826eea2277421a922b8d49"
   }
  }
 },
 "nbformat": 4,
 "nbformat_minor": 5
}
