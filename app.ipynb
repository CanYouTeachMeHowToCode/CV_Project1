{
 "cells": [
  {
   "cell_type": "code",
   "execution_count": 8,
   "id": "e1de9b04",
   "metadata": {},
   "outputs": [],
   "source": [
    "import torch\n",
    "from torch import nn\n",
    "import copy\n",
    "import torchvision\n",
    "from torchvision import transforms\n",
    "from PIL import Image\n",
    "from io import BytesIO\n",
    "import tempfile\n",
    "import gradio as gr\n",
    "from gradio.components import Image, Textbox,Label"
   ]
  },
  {
   "cell_type": "code",
   "execution_count": 2,
   "id": "011cd9c6",
   "metadata": {},
   "outputs": [],
   "source": [
    "def load_model(model_path):\n",
    "    #model = Model()\n",
    "    #model.load_state_dict(torch.load(model_path, map_location='cpu'))\n",
    "    checkpoint = torch.load(model_path, map_location=torch.device(\"cpu\"))\n",
    "    best_model_wts = copy.deepcopy(checkpoint)\n",
    "    #print(type(checkpoint))\n",
    "    #print(checkpoint)\n",
    "    model = torchvision.models.resnet18(pretrained=True)\n",
    "    for param in model.parameters():\n",
    "        param.requires_grad = False\n",
    "    num_ftrs = model.fc.in_features\n",
    "    model.fc = nn.Linear(num_ftrs, 2)\n",
    "    model.load_state_dict(best_model_wts)\n",
    "    return model"
   ]
  },
  {
   "cell_type": "code",
   "execution_count": 3,
   "id": "d2f798e9",
   "metadata": {},
   "outputs": [],
   "source": [
    "model_path = 'model1.pth'\n",
    "model = load_model(model_path)"
   ]
  },
  {
   "cell_type": "code",
   "execution_count": 30,
   "id": "b82a2f16",
   "metadata": {},
   "outputs": [],
   "source": [
    "class_names = ['artificial','human']"
   ]
  },
  {
   "cell_type": "code",
   "execution_count": 33,
   "id": "91bdbff9",
   "metadata": {},
   "outputs": [],
   "source": [
    "def model_pred(img):\n",
    "    transform=transforms.Compose([   \n",
    "        transforms.Resize(256),\n",
    "        transforms.CenterCrop(224),\n",
    "        transforms.ToTensor(),\n",
    "        transforms.Normalize([0.485, 0.456, 0.406], [0.229, 0.224, 0.225])\n",
    "    ])\n",
    "    image_tensor=transform(img).unsqueeze(0)\n",
    "    model.eval()\n",
    "    with torch.no_grad():\n",
    "        pred_probs = torch.softmax(model(image_tensor), dim=1)\n",
    "        #print (max_prob)\n",
    "        #print (pred_probs)\n",
    "        pred_labels_and_probs = {class_names[i]: float(pred_probs[0][i]) for i in range(len(class_names))}\n",
    "    #print(preds)\n",
    "    return pred_labels_and_probs"
   ]
  },
  {
   "cell_type": "code",
   "execution_count": 34,
   "id": "31a90109",
   "metadata": {},
   "outputs": [
    {
     "name": "stdout",
     "output_type": "stream",
     "text": [
      "Running on local URL:  http://127.0.0.1:7890\n",
      "\n",
      "To create a public link, set `share=True` in `launch()`.\n"
     ]
    },
    {
     "data": {
      "text/html": [
       "<div><iframe src=\"http://127.0.0.1:7890/\" width=\"100%\" height=\"500\" allow=\"autoplay; camera; microphone; clipboard-read; clipboard-write;\" frameborder=\"0\" allowfullscreen></iframe></div>"
      ],
      "text/plain": [
       "<IPython.core.display.HTML object>"
      ]
     },
     "metadata": {},
     "output_type": "display_data"
    },
    {
     "data": {
      "text/plain": []
     },
     "execution_count": 34,
     "metadata": {},
     "output_type": "execute_result"
    }
   ],
   "source": [
    "inputs = gr.Image(type=\"pil\")\n",
    "\n",
    "#outputs = Textbox(lines=1)\n",
    "#img=Image.open(inputs)\n",
    "#img=transforms.ToPILImage(inputs)\n",
    "\n",
    "\n",
    "\n",
    "interface = gr.Interface(\n",
    "    fn=model_pred, \n",
    "    inputs=inputs, \n",
    "    outputs=gr.Label(num_top_classes=2, label=\"Predictions\"), \n",
    "    title=\"Image Classification Prediction\",\n",
    "    description=\"Provide an image and get the predicted class label.\")\n",
    "\n",
    "interface.launch()"
   ]
  },
  {
   "cell_type": "code",
   "execution_count": null,
   "id": "eb78b529",
   "metadata": {},
   "outputs": [],
   "source": []
  }
 ],
 "metadata": {
  "kernelspec": {
   "display_name": "Python 3",
   "language": "python",
   "name": "python3"
  },
  "language_info": {
   "codemirror_mode": {
    "name": "ipython",
    "version": 3
   },
   "file_extension": ".py",
   "mimetype": "text/x-python",
   "name": "python",
   "nbconvert_exporter": "python",
   "pygments_lexer": "ipython3",
   "version": "3.7.3"
  },
  "vscode": {
   "interpreter": {
    "hash": "31f2aee4e71d21fbe5cf8b01ff0e069b9275f58929596ceb00d14d90e3e16cd6"
   }
  }
 },
 "nbformat": 4,
 "nbformat_minor": 5
}
