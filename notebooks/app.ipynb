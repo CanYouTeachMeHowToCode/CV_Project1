{
 "cells": [
  {
   "cell_type": "code",
   "execution_count": 1,
   "id": "e1de9b04",
   "metadata": {},
   "outputs": [],
   "source": [
    "import copy\n",
    "import torch\n",
    "import torchvision\n",
    "from torchvision import transforms\n",
    "import gradio as gr"
   ]
  },
  {
   "cell_type": "code",
   "execution_count": 2,
   "id": "011cd9c6",
   "metadata": {},
   "outputs": [],
   "source": [
    "def load_model(model_path):\n",
    "    trained_model = torch.load(model_path, map_location=torch.device(\"cpu\"))\n",
    "    best_model_wts = copy.deepcopy(trained_model)\n",
    "    model = torchvision.models.resnet18(pretrained=True)\n",
    "    for param in model.parameters():\n",
    "        param.requires_grad = False\n",
    "    num_ftrs = model.fc.in_features\n",
    "    model.fc = torch.nn.Linear(num_ftrs, 2)\n",
    "    model.load_state_dict(best_model_wts)\n",
    "    return model"
   ]
  },
  {
   "cell_type": "code",
   "execution_count": 3,
   "id": "d2f798e9",
   "metadata": {},
   "outputs": [],
   "source": [
    "model_path = 'models/model1.pth'\n",
    "model = load_model(model_path)"
   ]
  },
  {
   "cell_type": "code",
   "execution_count": 4,
   "id": "b82a2f16",
   "metadata": {},
   "outputs": [],
   "source": [
    "class_names = ['artificial','human']"
   ]
  },
  {
   "cell_type": "code",
   "execution_count": 5,
   "id": "91bdbff9",
   "metadata": {},
   "outputs": [],
   "source": [
    "def model_pred(img):\n",
    "    transform=transforms.Compose([   \n",
    "        transforms.Resize(256),\n",
    "        transforms.CenterCrop(224),\n",
    "        transforms.ToTensor(),\n",
    "        transforms.Normalize([0.485, 0.456, 0.406], [0.229, 0.224, 0.225])\n",
    "    ])\n",
    "    image_tensor=transform(img).unsqueeze(0)\n",
    "    model.eval()\n",
    "    with torch.no_grad():\n",
    "        pred_probs = torch.softmax(model(image_tensor), dim=1)\n",
    "        pred_labels_and_probs = {class_names[i]: float(pred_probs[0][i]) for i in range(len(class_names))}\n",
    "    return pred_labels_and_probs"
   ]
  },
  {
   "cell_type": "code",
   "execution_count": 6,
   "id": "31a90109",
   "metadata": {},
   "outputs": [
    {
     "name": "stdout",
     "output_type": "stream",
     "text": [
      "Running on local URL:  http://127.0.0.1:7861\n",
      "\n",
      "To create a public link, set `share=True` in `launch()`.\n"
     ]
    },
    {
     "data": {
      "text/html": [
       "<div><iframe src=\"http://127.0.0.1:7861/\" width=\"100%\" height=\"500\" allow=\"autoplay; camera; microphone; clipboard-read; clipboard-write;\" frameborder=\"0\" allowfullscreen></iframe></div>"
      ],
      "text/plain": [
       "<IPython.core.display.HTML object>"
      ]
     },
     "metadata": {},
     "output_type": "display_data"
    },
    {
     "data": {
      "text/plain": []
     },
     "execution_count": 6,
     "metadata": {},
     "output_type": "execute_result"
    }
   ],
   "source": [
    "inputs = gr.Image(type=\"pil\")\n",
    "interface = gr.Interface(\n",
    "    fn=model_pred, \n",
    "    inputs=inputs, \n",
    "    outputs=gr.Label(num_top_classes=2, label=\"Predictions\"), \n",
    "    title=\"Image Classification Prediction\",\n",
    "    description=\"Provide an image and get the predicted class label.\")\n",
    "interface.launch()"
   ]
  }
 ],
 "metadata": {
  "kernelspec": {
   "display_name": "aipi540",
   "language": "python",
   "name": "python3"
  },
  "language_info": {
   "codemirror_mode": {
    "name": "ipython",
    "version": 3
   },
   "file_extension": ".py",
   "mimetype": "text/x-python",
   "name": "python",
   "nbconvert_exporter": "python",
   "pygments_lexer": "ipython3",
   "version": "3.9.7"
  },
  "vscode": {
   "interpreter": {
    "hash": "1d062df41f54249e2b34db2593cd2ba595c42e1af69466d7a7b6947d5fd648bf"
   }
  }
 },
 "nbformat": 4,
 "nbformat_minor": 5
}
