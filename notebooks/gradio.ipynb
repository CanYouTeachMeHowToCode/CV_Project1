{
 "cells": [
  {
   "cell_type": "code",
   "execution_count": 1,
   "id": "4627aee6",
   "metadata": {},
   "outputs": [],
   "source": [
    "import gradio as gr"
   ]
  },
  {
   "cell_type": "code",
   "execution_count": 2,
   "id": "61132f43",
   "metadata": {},
   "outputs": [],
   "source": [
    "def fun(image_input):\n",
    "    print(\"hello\")"
   ]
  },
  {
   "cell_type": "code",
   "execution_count": 3,
   "id": "e48c7198",
   "metadata": {},
   "outputs": [
    {
     "name": "stdout",
     "output_type": "stream",
     "text": [
      "Running on local URL:  http://127.0.0.1:7860\n",
      "\n",
      "To create a public link, set `share=True` in `launch()`.\n"
     ]
    },
    {
     "data": {
      "text/html": [
       "<div><iframe src=\"http://127.0.0.1:7860/\" width=\"100%\" height=\"500\" allow=\"autoplay; camera; microphone; clipboard-read; clipboard-write;\" frameborder=\"0\" allowfullscreen></iframe></div>"
      ],
      "text/plain": [
       "<IPython.core.display.HTML object>"
      ]
     },
     "metadata": {},
     "output_type": "display_data"
    },
    {
     "data": {
      "text/plain": []
     },
     "execution_count": 3,
     "metadata": {},
     "output_type": "execute_result"
    }
   ],
   "source": [
    "with gr.Blocks() as demo:\n",
    "    image_input = gr.Image(source=\"upload\",\n",
    "                           type=\"filepath\",\n",
    "                           label=\"Insert an image\")\n",
    "\n",
    "    human = gr.Number(label=\"Human Probability\")\n",
    "    ai = gr.Number(label=\"AI Probability\")\n",
    "\n",
    "    greet_btn = gr.Button(\"Submit Image\")\n",
    "    greet_btn.click(fn=fun,\n",
    "                    inputs=image_input,\n",
    "                    outputs=[human, ai])\n",
    "\n",
    "demo.launch()\n"
   ]
  },
  {
   "cell_type": "code",
   "execution_count": null,
   "id": "5b2032a6",
   "metadata": {},
   "outputs": [],
   "source": []
  }
 ],
 "metadata": {
  "kernelspec": {
   "display_name": "aipi540",
   "language": "python",
   "name": "python3"
  },
  "language_info": {
   "codemirror_mode": {
    "name": "ipython",
    "version": 3
   },
   "file_extension": ".py",
   "mimetype": "text/x-python",
   "name": "python",
   "nbconvert_exporter": "python",
   "pygments_lexer": "ipython3",
   "version": "3.9.7"
  },
  "vscode": {
   "interpreter": {
    "hash": "1d062df41f54249e2b34db2593cd2ba595c42e1af69466d7a7b6947d5fd648bf"
   }
  }
 },
 "nbformat": 4,
 "nbformat_minor": 5
}
