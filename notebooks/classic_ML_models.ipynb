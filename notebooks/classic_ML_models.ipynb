{
 "cells": [
  {
   "attachments": {},
   "cell_type": "markdown",
   "id": "8f8a3939",
   "metadata": {},
   "source": [
    "## Classification of Diffusion Model Generated Images using Classic Machine Learning Models"
   ]
  },
  {
   "attachments": {},
   "cell_type": "markdown",
   "id": "dad3e430",
   "metadata": {},
   "source": [
    "### Load necessary modules"
   ]
  },
  {
   "cell_type": "code",
   "execution_count": 1,
   "id": "4ee14d65",
   "metadata": {},
   "outputs": [],
   "source": [
    "# Load all necessary modules\n",
    "import os\n",
    "import cv2\n",
    "import numpy as np\n",
    "import matplotlib.pyplot as plt\n",
    "from sklearn.metrics import classification_report, confusion_matrix, ConfusionMatrixDisplay\n",
    "from sklearn.svm import SVC\n",
    "from sklearn.neighbors import KNeighborsClassifier\n",
    "from sklearn.tree import DecisionTreeClassifier\n",
    "from sklearn.ensemble import RandomForestClassifier"
   ]
  },
  {
   "attachments": {},
   "cell_type": "markdown",
   "id": "e701289f",
   "metadata": {},
   "source": [
    "###  Load and transform all datasets "
   ]
  },
  {
   "cell_type": "code",
   "execution_count": 2,
   "id": "33ccc459",
   "metadata": {},
   "outputs": [],
   "source": [
    "# Load all datasets in numpy array format \n",
    "def removeTmpFiles(path):\n",
    "    # automatically remove all .DS_Store files\n",
    "    if path.split(\"/\")[-1] == '.DS_Store': os.remove(path)\n",
    "    elif os.path.isdir(path):\n",
    "        for filename in os.listdir(path): removeTmpFiles(path + \"/\" + filename)\n",
    "\n",
    "data_dir = \"data/final_output_data/\"\n",
    "data_train, data_val, data_test = [], [], []\n",
    "labels_train, labels_val, labels_test = [], [], []\n",
    "\n",
    "data = {'train': data_train,\n",
    "        'val': data_val,\n",
    "        'test': data_test}\n",
    "labels = {'train': labels_train,\n",
    "          'val': labels_val,\n",
    "          'test': labels_test}\n",
    "\n",
    "dataset_types = ['train', 'val', 'test']\n",
    "for t in dataset_types:\n",
    "    curr_data_dir = data_dir+t\n",
    "    removeTmpFiles(curr_data_dir) # for macOS\n",
    "    for folder_name in os.listdir(curr_data_dir):\n",
    "        folder_path_class = os.path.join(curr_data_dir, folder_name)\n",
    "        label = folder_name\n",
    "        for image_path in os.listdir(folder_path_class):\n",
    "            image_path_full = os.path.join(folder_path_class, image_path)\n",
    "            image = cv2.imread(image_path_full)\n",
    "            image = cv2.resize(image, (240, 240))\n",
    "            image = image.flatten()\n",
    "            data[t].append(image)\n",
    "            labels[t].append(label)\n",
    "    data[t] = np.array(data[t], dtype=object)\n",
    "    labels[t] = np.array(labels[t], dtype=object)"
   ]
  },
  {
   "attachments": {},
   "cell_type": "markdown",
   "id": "fe7ab128",
   "metadata": {},
   "source": [
    "### Model 1: Support Vector Machine"
   ]
  },
  {
   "cell_type": "code",
   "execution_count": 3,
   "id": "14aa3250",
   "metadata": {},
   "outputs": [],
   "source": [
    "def test_SVC_model(kernel, C_val, X_train, y_train, X_test):\n",
    "    model = SVC(kernel=kernel, C=C_val)\n",
    "    model.fit(X_train, y_train)\n",
    "    y_pred = model.predict(X_test)\n",
    "    return y_pred"
   ]
  },
  {
   "cell_type": "code",
   "execution_count": 4,
   "id": "0ddfe9a3",
   "metadata": {},
   "outputs": [
    {
     "name": "stdout",
     "output_type": "stream",
     "text": [
      "Classfication report for SVM:\n",
      "              precision    recall  f1-score   support\n",
      "\n",
      "  artificial       0.64      0.94      0.76        51\n",
      "       human       0.89      0.48      0.62        52\n",
      "\n",
      "    accuracy                           0.71       103\n",
      "   macro avg       0.77      0.71      0.69       103\n",
      "weighted avg       0.77      0.71      0.69       103\n",
      "\n"
     ]
    }
   ],
   "source": [
    "y_pred_SVM = test_SVC_model('rbf', 10, data['train'], labels['train'], data['test'])\n",
    "print(\"Classfication report for SVM:\")\n",
    "print(classification_report(labels['test'], y_pred_SVM, target_names=['artificial', 'human']))"
   ]
  },
  {
   "cell_type": "code",
   "execution_count": 5,
   "id": "19032087",
   "metadata": {},
   "outputs": [
    {
     "name": "stdout",
     "output_type": "stream",
     "text": [
      "Confusion matrix for SVM:\n"
     ]
    },
    {
     "data": {
      "image/png": "[encoded data removed]",
      "text/plain": [
       "<Figure size 432x288 with 2 Axes>"
      ]
     },
     "metadata": {
      "needs_background": "light"
     },
     "output_type": "display_data"
    }
   ],
   "source": [
    "conf_mat = confusion_matrix(labels['test'], y_pred_SVM)\n",
    "print(\"Confusion matrix for SVM:\")\n",
    "disp = ConfusionMatrixDisplay(confusion_matrix=conf_mat, display_labels=['artificial', 'human'])\n",
    "disp.plot()\n",
    "plt.show()"
   ]
  },
  {
   "attachments": {},
   "cell_type": "markdown",
   "id": "1b959785",
   "metadata": {},
   "source": [
    "### Model 2: K-nearest-neighbor"
   ]
  },
  {
   "cell_type": "code",
   "execution_count": 6,
   "id": "38721693",
   "metadata": {},
   "outputs": [],
   "source": [
    "def KNN(X_train, y_train, X_test):\n",
    "    knn_model = KNeighborsClassifier(n_neighbors=4)\n",
    "    knn_model.fit(X_train, y_train)\n",
    "    y_pred = knn_model.predict(X_test)\n",
    "    return y_pred"
   ]
  },
  {
   "cell_type": "code",
   "execution_count": 7,
   "id": "76efbd5e",
   "metadata": {},
   "outputs": [
    {
     "name": "stdout",
     "output_type": "stream",
     "text": [
      "Classfication report for k-nearest-neighbors:\n",
      "              precision    recall  f1-score   support\n",
      "\n",
      "  artificial       0.75      0.53      0.62        51\n",
      "       human       0.64      0.83      0.72        52\n",
      "\n",
      "    accuracy                           0.68       103\n",
      "   macro avg       0.70      0.68      0.67       103\n",
      "weighted avg       0.70      0.68      0.67       103\n",
      "\n"
     ]
    }
   ],
   "source": [
    "y_pred_KNN = KNN(data['train'], labels['train'], data['test'])\n",
    "print(\"Classfication report for k-nearest-neighbors:\")\n",
    "print(classification_report(labels['test'], y_pred_KNN, target_names=['artificial', 'human']))"
   ]
  },
  {
   "cell_type": "code",
   "execution_count": 8,
   "id": "77c7645c",
   "metadata": {},
   "outputs": [
    {
     "name": "stdout",
     "output_type": "stream",
     "text": [
      "Confusion matrix for k-nearest-neighbors:\n"
     ]
    },
    {
     "data": {
      "image/png": "[encoded data removed]",
      "text/plain": [
       "<Figure size 432x288 with 2 Axes>"
      ]
     },
     "metadata": {
      "needs_background": "light"
     },
     "output_type": "display_data"
    }
   ],
   "source": [
    "conf_mat = confusion_matrix(labels['test'], y_pred_KNN)\n",
    "print(\"Confusion matrix for k-nearest-neighbors:\")\n",
    "disp = ConfusionMatrixDisplay(confusion_matrix=conf_mat, display_labels=['artificial', 'human'])\n",
    "disp.plot()\n",
    "plt.show()"
   ]
  },
  {
   "attachments": {},
   "cell_type": "markdown",
   "id": "bfff0f15",
   "metadata": {},
   "source": [
    "### Decision Tree"
   ]
  },
  {
   "cell_type": "code",
   "execution_count": 9,
   "id": "407d7cfc",
   "metadata": {},
   "outputs": [],
   "source": [
    "def tree_model(X_train, y_train, X_test):\n",
    "    dtree_model = DecisionTreeClassifier(random_state=540)\n",
    "    dtree_model.fit(X_train, y_train)\n",
    "    y_pred = dtree_model.predict(X_test)\n",
    "    return y_pred "
   ]
  },
  {
   "cell_type": "code",
   "execution_count": 10,
   "id": "08a2f6dc",
   "metadata": {},
   "outputs": [
    {
     "name": "stdout",
     "output_type": "stream",
     "text": [
      "Classfication report for decision tree model:\n",
      "              precision    recall  f1-score   support\n",
      "\n",
      "  artificial       0.59      0.84      0.69        51\n",
      "       human       0.73      0.42      0.54        52\n",
      "\n",
      "    accuracy                           0.63       103\n",
      "   macro avg       0.66      0.63      0.62       103\n",
      "weighted avg       0.66      0.63      0.61       103\n",
      "\n"
     ]
    }
   ],
   "source": [
    "y_pred_decision_tree = tree_model(data['train'], labels['train'], data['test'])\n",
    "print(\"Classfication report for decision tree model:\")\n",
    "print(classification_report(labels['test'], y_pred_decision_tree, target_names=['artificial', 'human']))"
   ]
  },
  {
   "cell_type": "code",
   "execution_count": 11,
   "id": "4fefb761",
   "metadata": {},
   "outputs": [
    {
     "name": "stdout",
     "output_type": "stream",
     "text": [
      "Confusion matrix for decision tree model:\n"
     ]
    },
    {
     "data": {
      "image/png": "[encoded data removed]",
      "text/plain": [
       "<Figure size 432x288 with 2 Axes>"
      ]
     },
     "metadata": {
      "needs_background": "light"
     },
     "output_type": "display_data"
    }
   ],
   "source": [
    "conf_mat = confusion_matrix(labels['test'], y_pred_decision_tree)\n",
    "print(\"Confusion matrix for decision tree model:\")\n",
    "disp = ConfusionMatrixDisplay(confusion_matrix=conf_mat, display_labels=['artificial', 'human'])\n",
    "disp.plot()\n",
    "plt.show()"
   ]
  },
  {
   "attachments": {},
   "cell_type": "markdown",
   "id": "59f42fac",
   "metadata": {},
   "source": [
    "### Random Forest"
   ]
  },
  {
   "cell_type": "code",
   "execution_count": 12,
   "id": "b5acc3b2",
   "metadata": {},
   "outputs": [],
   "source": [
    "def random_forest_model(X_train, y_train, X_test):    \n",
    "    rf = RandomForestClassifier(min_samples_leaf=10, max_features=10, random_state=540)\n",
    "    rf.fit(X_train,y_train)\n",
    "    y_pred = rf.predict(X_test)\n",
    "    return y_pred"
   ]
  },
  {
   "cell_type": "code",
   "execution_count": 13,
   "id": "b536c4ff",
   "metadata": {},
   "outputs": [
    {
     "name": "stdout",
     "output_type": "stream",
     "text": [
      "Classfication report for random forest model:\n",
      "              precision    recall  f1-score   support\n",
      "\n",
      "  artificial       0.72      0.94      0.81        51\n",
      "       human       0.92      0.63      0.75        52\n",
      "\n",
      "    accuracy                           0.79       103\n",
      "   macro avg       0.82      0.79      0.78       103\n",
      "weighted avg       0.82      0.79      0.78       103\n",
      "\n"
     ]
    }
   ],
   "source": [
    "y_pred_random_forest = random_forest_model(data['train'], labels['train'], data['test'])\n",
    "print(\"Classfication report for random forest model:\")\n",
    "print(classification_report(labels['test'], y_pred_random_forest, target_names=['artificial', 'human']))"
   ]
  },
  {
   "cell_type": "code",
   "execution_count": 14,
   "id": "767d6c3d",
   "metadata": {},
   "outputs": [
    {
     "name": "stdout",
     "output_type": "stream",
     "text": [
      "Confusion matrix for random forest model:\n"
     ]
    },
    {
     "data": {
      "image/png": "[encoded data removed]",
      "text/plain": [
       "<Figure size 432x288 with 2 Axes>"
      ]
     },
     "metadata": {
      "needs_background": "light"
     },
     "output_type": "display_data"
    }
   ],
   "source": [
    "conf_mat = confusion_matrix(labels['test'], y_pred_random_forest)\n",
    "print(\"Confusion matrix for random forest model:\")\n",
    "disp = ConfusionMatrixDisplay(confusion_matrix=conf_mat, display_labels=['artificial', 'human'])\n",
    "disp.plot()\n",
    "plt.show()"
   ]
  }
 ],
 "metadata": {
  "kernelspec": {
   "display_name": "aipi540",
   "language": "python",
   "name": "python3"
  },
  "language_info": {
   "codemirror_mode": {
    "name": "ipython",
    "version": 3
   },
   "file_extension": ".py",
   "mimetype": "text/x-python",
   "name": "python",
   "nbconvert_exporter": "python",
   "pygments_lexer": "ipython3",
   "version": "3.9.7"
  },
  "vscode": {
   "interpreter": {
    "hash": "1d062df41f54249e2b34db2593cd2ba595c42e1af69466d7a7b6947d5fd648bf"
   }
  }
 },
 "nbformat": 4,
 "nbformat_minor": 5
}
