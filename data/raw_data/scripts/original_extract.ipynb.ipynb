{
 "cells": [
  {
   "cell_type": "code",
   "execution_count": 1,
   "id": "e923c166",
   "metadata": {},
   "outputs": [],
   "source": [
    "import requests\n",
    "import os\n",
    "import pandas as pd\n",
    "\n",
    "def download_image(url, directory):\n",
    "    response = requests.get(url)\n",
    "    if response.status_code == 200:\n",
    "        filename = os.path.join(directory, url.split(\"/\")[-1])\n",
    "        with open(filename, 'wb') as f:\n",
    "            f.write(response.content)"
   ]
  },
  {
   "cell_type": "code",
   "execution_count": 12,
   "id": "e9b019eb",
   "metadata": {},
   "outputs": [],
   "source": [
    "def main():\n",
    "    directory = 'human'\n",
    "    if not os.path.exists(directory):\n",
    "        os.makedirs(directory)\n",
    "\n",
    "    df = pd.read_csv('img_urls.csv')\n",
    "    urls = df['IMAGE'].tolist()\n",
    "\n",
    "    for url in urls:\n",
    "        download_image(url.strip(), directory)"
   ]
  },
  {
   "cell_type": "code",
   "execution_count": null,
   "id": "8decb51f",
   "metadata": {},
   "outputs": [],
   "source": [
    "if __name__ == '__main__':\n",
    "    main()"
   ]
  },
  {
   "cell_type": "code",
   "execution_count": null,
   "id": "bcb47d0b",
   "metadata": {},
   "outputs": [],
   "source": []
  }
 ],
 "metadata": {
  "kernelspec": {
   "display_name": "Python 3 (ipykernel)",
   "language": "python",
   "name": "python3"
  },
  "language_info": {
   "codemirror_mode": {
    "name": "ipython",
    "version": 3
   },
   "file_extension": ".py",
   "mimetype": "text/x-python",
   "name": "python",
   "nbconvert_exporter": "python",
   "pygments_lexer": "ipython3",
   "version": "3.7.13"
  }
 },
 "nbformat": 4,
 "nbformat_minor": 5
}
